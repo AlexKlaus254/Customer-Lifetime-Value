{
  "nbformat": 4,
  "nbformat_minor": 0,
  "metadata": {
    "colab": {
      "provenance": []
    },
    "kernelspec": {
      "name": "python3",
      "display_name": "Python 3"
    },
    "language_info": {
      "name": "python"
    }
  },
  "cells": [
    {
      "cell_type": "code",
      "execution_count": 1,
      "metadata": {
        "id": "lAqVO_tiupVr"
      },
      "outputs": [],
      "source": [
        "#import necessary libraries\n",
        "import pandas as pd\n",
        "import numpy as np\n",
        "import matplotlib.pyplot as plt\n",
        "import json\n",
        "import datetime\n"
      ]
    },
    {
      "cell_type": "code",
      "source": [
        "from google.colab import drive\n",
        "drive.mount('/content/drive/')"
      ],
      "metadata": {
        "colab": {
          "base_uri": "https://localhost:8080/"
        },
        "id": "Qy-h7ErTvsgQ",
        "outputId": "37a56649-c8a8-4ad7-ebbd-b5971c366625"
      },
      "execution_count": 2,
      "outputs": [
        {
          "output_type": "stream",
          "name": "stdout",
          "text": [
            "Drive already mounted at /content/drive/; to attempt to forcibly remount, call drive.mount(\"/content/drive/\", force_remount=True).\n"
          ]
        }
      ]
    },
    {
      "cell_type": "code",
      "source": [
        "c_data = pd.read_json('/content/drive/MyDrive/CLV/raw_customer_data - Copy.json', lines=True)\n"
      ],
      "metadata": {
        "id": "OE08QwWGDLNr"
      },
      "execution_count": 3,
      "outputs": []
    },
    {
      "cell_type": "code",
      "source": [
        "c_data.head()"
      ],
      "metadata": {
        "colab": {
          "base_uri": "https://localhost:8080/",
          "height": 206
        },
        "id": "yFv9P_tsDyIJ",
        "outputId": "a49b46cb-3f4f-4356-a73f-b54b785971e0"
      },
      "execution_count": 4,
      "outputs": [
        {
          "output_type": "execute_result",
          "data": {
            "text/plain": [
              "       id                                       transactions\n",
              "0  128867  [{'settledAt': '2022-03-10T14:14:34.583+0000',...\n",
              "1  128853  [{'settledAt': '2022-03-10T11:30:45.292+0000',...\n",
              "2  128850  [{'settledAt': '2022-03-10T11:06:32.510+0000',...\n",
              "3  128797  [{'settledAt': '2022-03-10T08:40:27.015+0000',...\n",
              "4  128786  [{'settledAt': '2022-03-09T17:22:12.586+0000',..."
            ],
            "text/html": [
              "\n",
              "  <div id=\"df-47d9986f-43c7-4177-8679-30fc8be800d4\">\n",
              "    <div class=\"colab-df-container\">\n",
              "      <div>\n",
              "<style scoped>\n",
              "    .dataframe tbody tr th:only-of-type {\n",
              "        vertical-align: middle;\n",
              "    }\n",
              "\n",
              "    .dataframe tbody tr th {\n",
              "        vertical-align: top;\n",
              "    }\n",
              "\n",
              "    .dataframe thead th {\n",
              "        text-align: right;\n",
              "    }\n",
              "</style>\n",
              "<table border=\"1\" class=\"dataframe\">\n",
              "  <thead>\n",
              "    <tr style=\"text-align: right;\">\n",
              "      <th></th>\n",
              "      <th>id</th>\n",
              "      <th>transactions</th>\n",
              "    </tr>\n",
              "  </thead>\n",
              "  <tbody>\n",
              "    <tr>\n",
              "      <th>0</th>\n",
              "      <td>128867</td>\n",
              "      <td>[{'settledAt': '2022-03-10T14:14:34.583+0000',...</td>\n",
              "    </tr>\n",
              "    <tr>\n",
              "      <th>1</th>\n",
              "      <td>128853</td>\n",
              "      <td>[{'settledAt': '2022-03-10T11:30:45.292+0000',...</td>\n",
              "    </tr>\n",
              "    <tr>\n",
              "      <th>2</th>\n",
              "      <td>128850</td>\n",
              "      <td>[{'settledAt': '2022-03-10T11:06:32.510+0000',...</td>\n",
              "    </tr>\n",
              "    <tr>\n",
              "      <th>3</th>\n",
              "      <td>128797</td>\n",
              "      <td>[{'settledAt': '2022-03-10T08:40:27.015+0000',...</td>\n",
              "    </tr>\n",
              "    <tr>\n",
              "      <th>4</th>\n",
              "      <td>128786</td>\n",
              "      <td>[{'settledAt': '2022-03-09T17:22:12.586+0000',...</td>\n",
              "    </tr>\n",
              "  </tbody>\n",
              "</table>\n",
              "</div>\n",
              "      <button class=\"colab-df-convert\" onclick=\"convertToInteractive('df-47d9986f-43c7-4177-8679-30fc8be800d4')\"\n",
              "              title=\"Convert this dataframe to an interactive table.\"\n",
              "              style=\"display:none;\">\n",
              "        \n",
              "  <svg xmlns=\"http://www.w3.org/2000/svg\" height=\"24px\"viewBox=\"0 0 24 24\"\n",
              "       width=\"24px\">\n",
              "    <path d=\"M0 0h24v24H0V0z\" fill=\"none\"/>\n",
              "    <path d=\"M18.56 5.44l.94 2.06.94-2.06 2.06-.94-2.06-.94-.94-2.06-.94 2.06-2.06.94zm-11 1L8.5 8.5l.94-2.06 2.06-.94-2.06-.94L8.5 2.5l-.94 2.06-2.06.94zm10 10l.94 2.06.94-2.06 2.06-.94-2.06-.94-.94-2.06-.94 2.06-2.06.94z\"/><path d=\"M17.41 7.96l-1.37-1.37c-.4-.4-.92-.59-1.43-.59-.52 0-1.04.2-1.43.59L10.3 9.45l-7.72 7.72c-.78.78-.78 2.05 0 2.83L4 21.41c.39.39.9.59 1.41.59.51 0 1.02-.2 1.41-.59l7.78-7.78 2.81-2.81c.8-.78.8-2.07 0-2.86zM5.41 20L4 18.59l7.72-7.72 1.47 1.35L5.41 20z\"/>\n",
              "  </svg>\n",
              "      </button>\n",
              "      \n",
              "  <style>\n",
              "    .colab-df-container {\n",
              "      display:flex;\n",
              "      flex-wrap:wrap;\n",
              "      gap: 12px;\n",
              "    }\n",
              "\n",
              "    .colab-df-convert {\n",
              "      background-color: #E8F0FE;\n",
              "      border: none;\n",
              "      border-radius: 50%;\n",
              "      cursor: pointer;\n",
              "      display: none;\n",
              "      fill: #1967D2;\n",
              "      height: 32px;\n",
              "      padding: 0 0 0 0;\n",
              "      width: 32px;\n",
              "    }\n",
              "\n",
              "    .colab-df-convert:hover {\n",
              "      background-color: #E2EBFA;\n",
              "      box-shadow: 0px 1px 2px rgba(60, 64, 67, 0.3), 0px 1px 3px 1px rgba(60, 64, 67, 0.15);\n",
              "      fill: #174EA6;\n",
              "    }\n",
              "\n",
              "    [theme=dark] .colab-df-convert {\n",
              "      background-color: #3B4455;\n",
              "      fill: #D2E3FC;\n",
              "    }\n",
              "\n",
              "    [theme=dark] .colab-df-convert:hover {\n",
              "      background-color: #434B5C;\n",
              "      box-shadow: 0px 1px 3px 1px rgba(0, 0, 0, 0.15);\n",
              "      filter: drop-shadow(0px 1px 2px rgba(0, 0, 0, 0.3));\n",
              "      fill: #FFFFFF;\n",
              "    }\n",
              "  </style>\n",
              "\n",
              "      <script>\n",
              "        const buttonEl =\n",
              "          document.querySelector('#df-47d9986f-43c7-4177-8679-30fc8be800d4 button.colab-df-convert');\n",
              "        buttonEl.style.display =\n",
              "          google.colab.kernel.accessAllowed ? 'block' : 'none';\n",
              "\n",
              "        async function convertToInteractive(key) {\n",
              "          const element = document.querySelector('#df-47d9986f-43c7-4177-8679-30fc8be800d4');\n",
              "          const dataTable =\n",
              "            await google.colab.kernel.invokeFunction('convertToInteractive',\n",
              "                                                     [key], {});\n",
              "          if (!dataTable) return;\n",
              "\n",
              "          const docLinkHtml = 'Like what you see? Visit the ' +\n",
              "            '<a target=\"_blank\" href=https://colab.research.google.com/notebooks/data_table.ipynb>data table notebook</a>'\n",
              "            + ' to learn more about interactive tables.';\n",
              "          element.innerHTML = '';\n",
              "          dataTable['output_type'] = 'display_data';\n",
              "          await google.colab.output.renderOutput(dataTable, element);\n",
              "          const docLink = document.createElement('div');\n",
              "          docLink.innerHTML = docLinkHtml;\n",
              "          element.appendChild(docLink);\n",
              "        }\n",
              "      </script>\n",
              "    </div>\n",
              "  </div>\n",
              "  "
            ]
          },
          "metadata": {},
          "execution_count": 4
        }
      ]
    },
    {
      "cell_type": "code",
      "source": [
        "# Check for missing values\n",
        "if c_data.isnull().any().any():\n",
        "    print(\"Input data contains missing values\")\n",
        "else:\n",
        "    print(\"Input data does not contain missing values\")"
      ],
      "metadata": {
        "colab": {
          "base_uri": "https://localhost:8080/"
        },
        "id": "9Ag6W-5gD4d9",
        "outputId": "2fd5f7e0-df86-413e-c1df-d02f4e615ff8"
      },
      "execution_count": 5,
      "outputs": [
        {
          "output_type": "stream",
          "name": "stdout",
          "text": [
            "Input data does not contain missing values\n"
          ]
        }
      ]
    },
    {
      "cell_type": "code",
      "source": [
        "# Print the column names\n",
        "columnnames = c_data.columns\n",
        "print(columnnames)"
      ],
      "metadata": {
        "colab": {
          "base_uri": "https://localhost:8080/"
        },
        "id": "6CaKtweNEIp7",
        "outputId": "583a0b1b-7607-4031-a04f-a5189abc3bf8"
      },
      "execution_count": 57,
      "outputs": [
        {
          "output_type": "stream",
          "name": "stdout",
          "text": [
            "Index(['id', 'transactions'], dtype='object')\n"
          ]
        }
      ]
    },
    {
      "cell_type": "code",
      "source": [
        "num_rows = c_data.shape[0]\n",
        "print(num_rows)"
      ],
      "metadata": {
        "colab": {
          "base_uri": "https://localhost:8080/"
        },
        "id": "-zFwL194KrzU",
        "outputId": "d7135397-10f7-4912-fac8-d3d3deb6b67a"
      },
      "execution_count": 7,
      "outputs": [
        {
          "output_type": "stream",
          "name": "stdout",
          "text": [
            "6677\n"
          ]
        }
      ]
    },
    {
      "cell_type": "code",
      "source": [
        "# Select the \"transactions\" value of the first row and print it\n",
        "print(c_data.loc[0, 'transactions'])\n"
      ],
      "metadata": {
        "colab": {
          "base_uri": "https://localhost:8080/"
        },
        "id": "MsQzC3VQFO2C",
        "outputId": "70b5a07a-b654-41ba-d684-a734daf387f1"
      },
      "execution_count": 8,
      "outputs": [
        {
          "output_type": "stream",
          "name": "stdout",
          "text": [
            "[{'settledAt': '2022-03-10T14:14:34.583+0000', 'ftd': True, 'amount': 40.0, 'status': 'SUCCESS', 'type': 'deposit'}]\n"
          ]
        }
      ]
    },
    {
      "cell_type": "code",
      "source": [
        "# Using c_data the original DataFrame converting the \"transactions\" column to a DataFrame\n",
        "new_columns = [\"id\", \"settledAt\", \"ftd\", \"amount\", \"status\", \"type\"]\n",
        "new_data = []\n",
        "\n",
        "for index, row in c_data.iterrows():\n",
        "    # extract information from the \"transactions\" column\n",
        "    transactions = row[\"transactions\"]\n",
        "    for transaction in transactions:\n",
        "        new_row = [row[\"id\"], transaction[\"settledAt\"], transaction[\"ftd\"], \n",
        "                   transaction[\"amount\"], transaction[\"status\"], transaction[\"type\"]]\n",
        "        new_data.append(new_row)\n",
        "\n",
        "# create the new DataFrame\n",
        "trans_df = pd.DataFrame(new_data, columns=new_columns)\n"
      ],
      "metadata": {
        "id": "9I8rSOzdBlWW"
      },
      "execution_count": 9,
      "outputs": []
    },
    {
      "cell_type": "code",
      "source": [
        "trans_df.head()"
      ],
      "metadata": {
        "colab": {
          "base_uri": "https://localhost:8080/",
          "height": 206
        },
        "id": "B8eaFuy7BqFe",
        "outputId": "40df49a7-dba3-49e5-de7d-c6a65987e846"
      },
      "execution_count": 10,
      "outputs": [
        {
          "output_type": "execute_result",
          "data": {
            "text/plain": [
              "       id                     settledAt    ftd  amount   status     type\n",
              "0  128867  2022-03-10T14:14:34.583+0000   True    40.0  SUCCESS  deposit\n",
              "1  128853  2022-03-10T11:30:45.292+0000  False    50.0  SUCCESS  deposit\n",
              "2  128853  2022-03-10T09:55:57.469+0000    1.0    50.0  SUCCESS  deposit\n",
              "3  128850  2022-03-10T11:06:32.510+0000   True   159.0  SUCCESS  deposit\n",
              "4  128850  2022-03-10T11:32:38.318+0000    0.0   180.0     FAIL  deposit"
            ],
            "text/html": [
              "\n",
              "  <div id=\"df-5f442e2c-ae1f-4e66-8bbc-cb73b79376e9\">\n",
              "    <div class=\"colab-df-container\">\n",
              "      <div>\n",
              "<style scoped>\n",
              "    .dataframe tbody tr th:only-of-type {\n",
              "        vertical-align: middle;\n",
              "    }\n",
              "\n",
              "    .dataframe tbody tr th {\n",
              "        vertical-align: top;\n",
              "    }\n",
              "\n",
              "    .dataframe thead th {\n",
              "        text-align: right;\n",
              "    }\n",
              "</style>\n",
              "<table border=\"1\" class=\"dataframe\">\n",
              "  <thead>\n",
              "    <tr style=\"text-align: right;\">\n",
              "      <th></th>\n",
              "      <th>id</th>\n",
              "      <th>settledAt</th>\n",
              "      <th>ftd</th>\n",
              "      <th>amount</th>\n",
              "      <th>status</th>\n",
              "      <th>type</th>\n",
              "    </tr>\n",
              "  </thead>\n",
              "  <tbody>\n",
              "    <tr>\n",
              "      <th>0</th>\n",
              "      <td>128867</td>\n",
              "      <td>2022-03-10T14:14:34.583+0000</td>\n",
              "      <td>True</td>\n",
              "      <td>40.0</td>\n",
              "      <td>SUCCESS</td>\n",
              "      <td>deposit</td>\n",
              "    </tr>\n",
              "    <tr>\n",
              "      <th>1</th>\n",
              "      <td>128853</td>\n",
              "      <td>2022-03-10T11:30:45.292+0000</td>\n",
              "      <td>False</td>\n",
              "      <td>50.0</td>\n",
              "      <td>SUCCESS</td>\n",
              "      <td>deposit</td>\n",
              "    </tr>\n",
              "    <tr>\n",
              "      <th>2</th>\n",
              "      <td>128853</td>\n",
              "      <td>2022-03-10T09:55:57.469+0000</td>\n",
              "      <td>1.0</td>\n",
              "      <td>50.0</td>\n",
              "      <td>SUCCESS</td>\n",
              "      <td>deposit</td>\n",
              "    </tr>\n",
              "    <tr>\n",
              "      <th>3</th>\n",
              "      <td>128850</td>\n",
              "      <td>2022-03-10T11:06:32.510+0000</td>\n",
              "      <td>True</td>\n",
              "      <td>159.0</td>\n",
              "      <td>SUCCESS</td>\n",
              "      <td>deposit</td>\n",
              "    </tr>\n",
              "    <tr>\n",
              "      <th>4</th>\n",
              "      <td>128850</td>\n",
              "      <td>2022-03-10T11:32:38.318+0000</td>\n",
              "      <td>0.0</td>\n",
              "      <td>180.0</td>\n",
              "      <td>FAIL</td>\n",
              "      <td>deposit</td>\n",
              "    </tr>\n",
              "  </tbody>\n",
              "</table>\n",
              "</div>\n",
              "      <button class=\"colab-df-convert\" onclick=\"convertToInteractive('df-5f442e2c-ae1f-4e66-8bbc-cb73b79376e9')\"\n",
              "              title=\"Convert this dataframe to an interactive table.\"\n",
              "              style=\"display:none;\">\n",
              "        \n",
              "  <svg xmlns=\"http://www.w3.org/2000/svg\" height=\"24px\"viewBox=\"0 0 24 24\"\n",
              "       width=\"24px\">\n",
              "    <path d=\"M0 0h24v24H0V0z\" fill=\"none\"/>\n",
              "    <path d=\"M18.56 5.44l.94 2.06.94-2.06 2.06-.94-2.06-.94-.94-2.06-.94 2.06-2.06.94zm-11 1L8.5 8.5l.94-2.06 2.06-.94-2.06-.94L8.5 2.5l-.94 2.06-2.06.94zm10 10l.94 2.06.94-2.06 2.06-.94-2.06-.94-.94-2.06-.94 2.06-2.06.94z\"/><path d=\"M17.41 7.96l-1.37-1.37c-.4-.4-.92-.59-1.43-.59-.52 0-1.04.2-1.43.59L10.3 9.45l-7.72 7.72c-.78.78-.78 2.05 0 2.83L4 21.41c.39.39.9.59 1.41.59.51 0 1.02-.2 1.41-.59l7.78-7.78 2.81-2.81c.8-.78.8-2.07 0-2.86zM5.41 20L4 18.59l7.72-7.72 1.47 1.35L5.41 20z\"/>\n",
              "  </svg>\n",
              "      </button>\n",
              "      \n",
              "  <style>\n",
              "    .colab-df-container {\n",
              "      display:flex;\n",
              "      flex-wrap:wrap;\n",
              "      gap: 12px;\n",
              "    }\n",
              "\n",
              "    .colab-df-convert {\n",
              "      background-color: #E8F0FE;\n",
              "      border: none;\n",
              "      border-radius: 50%;\n",
              "      cursor: pointer;\n",
              "      display: none;\n",
              "      fill: #1967D2;\n",
              "      height: 32px;\n",
              "      padding: 0 0 0 0;\n",
              "      width: 32px;\n",
              "    }\n",
              "\n",
              "    .colab-df-convert:hover {\n",
              "      background-color: #E2EBFA;\n",
              "      box-shadow: 0px 1px 2px rgba(60, 64, 67, 0.3), 0px 1px 3px 1px rgba(60, 64, 67, 0.15);\n",
              "      fill: #174EA6;\n",
              "    }\n",
              "\n",
              "    [theme=dark] .colab-df-convert {\n",
              "      background-color: #3B4455;\n",
              "      fill: #D2E3FC;\n",
              "    }\n",
              "\n",
              "    [theme=dark] .colab-df-convert:hover {\n",
              "      background-color: #434B5C;\n",
              "      box-shadow: 0px 1px 3px 1px rgba(0, 0, 0, 0.15);\n",
              "      filter: drop-shadow(0px 1px 2px rgba(0, 0, 0, 0.3));\n",
              "      fill: #FFFFFF;\n",
              "    }\n",
              "  </style>\n",
              "\n",
              "      <script>\n",
              "        const buttonEl =\n",
              "          document.querySelector('#df-5f442e2c-ae1f-4e66-8bbc-cb73b79376e9 button.colab-df-convert');\n",
              "        buttonEl.style.display =\n",
              "          google.colab.kernel.accessAllowed ? 'block' : 'none';\n",
              "\n",
              "        async function convertToInteractive(key) {\n",
              "          const element = document.querySelector('#df-5f442e2c-ae1f-4e66-8bbc-cb73b79376e9');\n",
              "          const dataTable =\n",
              "            await google.colab.kernel.invokeFunction('convertToInteractive',\n",
              "                                                     [key], {});\n",
              "          if (!dataTable) return;\n",
              "\n",
              "          const docLinkHtml = 'Like what you see? Visit the ' +\n",
              "            '<a target=\"_blank\" href=https://colab.research.google.com/notebooks/data_table.ipynb>data table notebook</a>'\n",
              "            + ' to learn more about interactive tables.';\n",
              "          element.innerHTML = '';\n",
              "          dataTable['output_type'] = 'display_data';\n",
              "          await google.colab.output.renderOutput(dataTable, element);\n",
              "          const docLink = document.createElement('div');\n",
              "          docLink.innerHTML = docLinkHtml;\n",
              "          element.appendChild(docLink);\n",
              "        }\n",
              "      </script>\n",
              "    </div>\n",
              "  </div>\n",
              "  "
            ]
          },
          "metadata": {},
          "execution_count": 10
        }
      ]
    },
    {
      "cell_type": "code",
      "source": [
        "num_rows = trans_df.shape[0]\n",
        "print(num_rows)"
      ],
      "metadata": {
        "colab": {
          "base_uri": "https://localhost:8080/"
        },
        "id": "XnRGye3-iJFD",
        "outputId": "02ab7a36-4f54-4123-d0e8-0f3275af848d"
      },
      "execution_count": 11,
      "outputs": [
        {
          "output_type": "stream",
          "name": "stdout",
          "text": [
            "180751\n"
          ]
        }
      ]
    },
    {
      "cell_type": "code",
      "source": [
        "# Extract the transaction date and ftd flag from each transaction dictionary\n",
        "trans_df['trans_date'] = pd.to_datetime(trans_df['settledAt']).dt.date\n",
        "trans_df['ftd_flag'] = trans_df['ftd'].astype(bool)\n"
      ],
      "metadata": {
        "id": "7PrxLmb2Ng0L"
      },
      "execution_count": 12,
      "outputs": []
    },
    {
      "cell_type": "code",
      "source": [
        "# Sort the transactions DataFrame by id and transaction date\n",
        "trans_df = trans_df.sort_values(['id', 'trans_date'])\n"
      ],
      "metadata": {
        "id": "IyjquWosQbXB"
      },
      "execution_count": 58,
      "outputs": []
    },
    {
      "cell_type": "code",
      "source": [
        "# Group the transactions DataFrame by id and filter out all transactions that occurred before the first-time monetary transaction for each customer\n",
        "trans_df['cum_ftd_flag'] = trans_df.groupby('id')['ftd_flag'].cumsum()\n",
        "trans_df = trans_df[trans_df['cum_ftd_flag'] > 0]"
      ],
      "metadata": {
        "id": "MGyh6RFnhBIs"
      },
      "execution_count": 14,
      "outputs": []
    },
    {
      "cell_type": "code",
      "source": [
        "# Print first 5 rows of DataFrame\n",
        "print(trans_df.head())"
      ],
      "metadata": {
        "colab": {
          "base_uri": "https://localhost:8080/"
        },
        "id": "NgVdetWBN0mM",
        "outputId": "2179dba2-8ba1-43a4-ce41-68708121c289"
      },
      "execution_count": 15,
      "outputs": [
        {
          "output_type": "stream",
          "name": "stdout",
          "text": [
            "          id                     settledAt    ftd  amount   status  \\\n",
            "180750  5774  2019-12-09T10:05:27.783+0000    1.0    50.0  SUCCESS   \n",
            "180748  5774  2019-12-15T20:09:26.286+0000  False    50.0    ERROR   \n",
            "180749  5774  2019-12-16T06:49:49.786+0000    0.0    50.0  SUCCESS   \n",
            "180741  5825  2020-03-23T08:48:32.463+0000    1.0    20.0  SUCCESS   \n",
            "180742  5825  2020-03-23T08:38:44.926+0000    0.0    20.0   CANCEL   \n",
            "\n",
            "              type  trans_date  ftd_flag  cum_ftd_flag  \n",
            "180750     deposit  2019-12-09      True             1  \n",
            "180748  withdrawal  2019-12-15     False             1  \n",
            "180749  withdrawal  2019-12-16     False             1  \n",
            "180741     deposit  2020-03-23      True             1  \n",
            "180742     deposit  2020-03-23     False             1  \n"
          ]
        }
      ]
    },
    {
      "cell_type": "code",
      "source": [
        "num_rows = trans_df.shape[0]\n",
        "print(num_rows)"
      ],
      "metadata": {
        "colab": {
          "base_uri": "https://localhost:8080/"
        },
        "id": "Wj3DUFpFEOGt",
        "outputId": "07c56be7-02f2-4b99-9232-37df78018eda"
      },
      "execution_count": 16,
      "outputs": [
        {
          "output_type": "stream",
          "name": "stdout",
          "text": [
            "174653\n"
          ]
        }
      ]
    },
    {
      "cell_type": "markdown",
      "source": [
        "Explatory Data Analysis"
      ],
      "metadata": {
        "id": "K0ztdHaut8k2"
      }
    },
    {
      "cell_type": "code",
      "source": [
        "#Checking for missing values\n",
        "if trans_df.isnull().any().any():\n",
        "    print(\"Transactions data contains missing values\")\n",
        "else:\n",
        "    print(\"Transactions data does not contain missing values\")\n"
      ],
      "metadata": {
        "colab": {
          "base_uri": "https://localhost:8080/"
        },
        "id": "yumQimgnib_q",
        "outputId": "d6aa0874-f8cc-4bd7-f2cf-d14d5914007d"
      },
      "execution_count": 17,
      "outputs": [
        {
          "output_type": "stream",
          "name": "stdout",
          "text": [
            "Transactions data does not contain missing values\n"
          ]
        }
      ]
    },
    {
      "cell_type": "code",
      "source": [
        "#Checking for duplicated transactions\n",
        "subset_columns = [\"id\", \"settledAt\", \"ftd\", \"amount\", \"status\"]\n",
        "if trans_df.duplicated(subset=subset_columns).any():\n",
        "    print(\"Transactions data contains duplicated transactions\")\n",
        "else:\n",
        "    print(\"Transactions data does not contain duplicated transactions\")\n"
      ],
      "metadata": {
        "colab": {
          "base_uri": "https://localhost:8080/"
        },
        "id": "Xv6pM_1aJOs1",
        "outputId": "61184841-dfd7-421e-9095-c4aa11cfb7eb"
      },
      "execution_count": 18,
      "outputs": [
        {
          "output_type": "stream",
          "name": "stdout",
          "text": [
            "Transactions data contains duplicated transactions\n"
          ]
        }
      ]
    },
    {
      "cell_type": "code",
      "source": [
        "#Confirming the duplicated transactions\n",
        "mask = trans_df.duplicated(subset=[\"id\", \"settledAt\", \"ftd\", \"amount\", \"status\"], keep=False)\n",
        "duplicated_rows = trans_df[mask]\n",
        "print(duplicated_rows)\n"
      ],
      "metadata": {
        "colab": {
          "base_uri": "https://localhost:8080/"
        },
        "id": "nd2S6MrOIVz_",
        "outputId": "08aeffbe-87d3-4b85-a81c-e10b2f923aa9"
      },
      "execution_count": 19,
      "outputs": [
        {
          "output_type": "stream",
          "name": "stdout",
          "text": [
            "            id                     settledAt   ftd  amount   status  \\\n",
            "13743   103756  2021-10-12T10:53:18.339+0000   1.0    70.0  SUCCESS   \n",
            "13769   103756  2021-10-12T10:53:18.339+0000   1.0    70.0  SUCCESS   \n",
            "13742   103756  2021-10-29T17:05:34.265+0000   0.0    20.0     FAIL   \n",
            "13768   103756  2021-10-29T17:05:34.265+0000   0.0    20.0     FAIL   \n",
            "13741   103756  2021-11-04T12:38:58.093+0000   0.0    15.0  SUCCESS   \n",
            "...        ...                           ...   ...     ...      ...   \n",
            "140894  128850  2022-03-10T11:32:38.318+0000   0.0   180.0     FAIL   \n",
            "2       128853  2022-03-10T09:55:57.469+0000   1.0    50.0  SUCCESS   \n",
            "140892  128853  2022-03-10T09:55:57.469+0000   1.0    50.0  SUCCESS   \n",
            "0       128867  2022-03-10T14:14:34.583+0000  True    40.0  SUCCESS   \n",
            "140890  128867  2022-03-10T14:14:34.583+0000  True    40.0  SUCCESS   \n",
            "\n",
            "              type  trans_date  ftd_flag  cum_ftd_flag  \n",
            "13743      deposit  2021-10-12      True             1  \n",
            "13769      deposit  2021-10-12      True             2  \n",
            "13742   withdrawal  2021-10-29     False             2  \n",
            "13768   withdrawal  2021-10-29     False             2  \n",
            "13741   withdrawal  2021-11-04     False             2  \n",
            "...            ...         ...       ...           ...  \n",
            "140894     deposit  2022-03-10     False             2  \n",
            "2          deposit  2022-03-10      True             1  \n",
            "140892     deposit  2022-03-10      True             2  \n",
            "0          deposit  2022-03-10      True             1  \n",
            "140890     deposit  2022-03-10      True             2  \n",
            "\n",
            "[132 rows x 9 columns]\n"
          ]
        }
      ]
    },
    {
      "cell_type": "code",
      "source": [
        "#Dropping the duplicates\n",
        "subset_columns = [\"id\", \"settledAt\", \"ftd\", \"amount\", \"status\"]\n",
        "trans_df.drop_duplicates(subset=subset_columns, inplace=True)\n"
      ],
      "metadata": {
        "id": "MIJABDueLe0k"
      },
      "execution_count": 20,
      "outputs": []
    },
    {
      "cell_type": "code",
      "source": [
        "#Checking again for duplicated transactions\n",
        "subset_columns = [\"id\", \"settledAt\", \"ftd\", \"amount\", \"status\"]\n",
        "if trans_df.duplicated(subset=subset_columns).any():\n",
        "    print(\"Transactions data contains duplicated transactions\")\n",
        "else:\n",
        "    print(\"Transactions data does not contain duplicated transactions\")\n"
      ],
      "metadata": {
        "colab": {
          "base_uri": "https://localhost:8080/"
        },
        "id": "lP7tr7ugMIC5",
        "outputId": "1b72f006-25a0-4cd8-cb27-a4e0fc80015c"
      },
      "execution_count": 21,
      "outputs": [
        {
          "output_type": "stream",
          "name": "stdout",
          "text": [
            "Transactions data does not contain duplicated transactions\n"
          ]
        }
      ]
    },
    {
      "cell_type": "code",
      "source": [
        "#Visualizing the distribution of transaction amounts\n",
        "# Customizing the colors of the plot\n",
        "boxprops = dict(linestyle='-', linewidth=2, color='blue')\n",
        "whiskerprops = dict(linestyle='--', linewidth=1.5, color='gray')\n",
        "flierprops = dict(marker='o', markerfacecolor='red', markersize=8, alpha=0.5)\n",
        "meanprops = dict(marker='D', markeredgecolor='black', markerfacecolor='yellow', markersize=8)\n",
        "medianprops = dict(linestyle='-', linewidth=2.5, color='green')\n",
        "\n",
        "# Creating the box plot\n",
        "plt.boxplot(trans_df['amount'], boxprops=boxprops, whiskerprops=whiskerprops, flierprops=flierprops,\n",
        "            meanprops=meanprops, medianprops=medianprops)\n",
        "\n",
        "# Adding labels and a title to the plot\n",
        "plt.xlabel('Transaction Amount')\n",
        "plt.ylabel('Amount in USD')\n",
        "plt.title('Distribution of Transaction Amounts')\n",
        "\n",
        "# Adding grid lines to the plot\n",
        "plt.grid(axis='y')\n",
        "\n",
        "# Displaying the plot\n",
        "plt.show()\n"
      ],
      "metadata": {
        "colab": {
          "base_uri": "https://localhost:8080/",
          "height": 472
        },
        "id": "4WWfD7wQwRW2",
        "outputId": "95b4e343-f0f4-4812-a1db-88cd60e5af77"
      },
      "execution_count": 22,
      "outputs": [
        {
          "output_type": "display_data",
          "data": {
            "text/plain": [
              "<Figure size 640x480 with 1 Axes>"
            ],
            "image/png": "[encoded data removed]"
          },
          "metadata": {}
        }
      ]
    },
    {
      "cell_type": "code",
      "source": [
        "#Checking to verify the maximum amount of transaction\n",
        "max_amount = trans_df['amount'].max()\n",
        "max_amount_row = trans_df.loc[trans_df['amount'] == max_amount]\n",
        "print('The row(s) with the maximum transaction amount:\\n', max_amount_row)\n"
      ],
      "metadata": {
        "colab": {
          "base_uri": "https://localhost:8080/"
        },
        "id": "kh0uFE7DoAcF",
        "outputId": "09a04be2-2faa-458c-87fd-24329b5ae653"
      },
      "execution_count": 23,
      "outputs": [
        {
          "output_type": "stream",
          "name": "stdout",
          "text": [
            "The row(s) with the maximum transaction amount:\n",
            "            id                     settledAt  ftd     amount  status     type  \\\n",
            "147198  14309  2022-03-10T10:59:00.323+0000  0.0  1144000.0  CANCEL  deposit   \n",
            "\n",
            "        trans_date  ftd_flag  cum_ftd_flag  \n",
            "147198  2022-03-10     False             1  \n"
          ]
        }
      ]
    },
    {
      "cell_type": "code",
      "source": [
        "#Removing outliers of Amount\n",
        "# number of rows to drop\n",
        "n = 2 \n",
        "\n",
        "# get the indices of the n largest values in the \"amount\" column\n",
        "max_amount_indices = trans_df[\"amount\"].nlargest(n).index\n",
        "\n",
        "# drop the rows with the largest values\n",
        "trans_df.drop(max_amount_indices, inplace=True)"
      ],
      "metadata": {
        "id": "saIezq-Z8Bhb"
      },
      "execution_count": 24,
      "outputs": []
    },
    {
      "cell_type": "code",
      "source": [
        "# Verify that the maximum transaction amount has been dropped\n",
        "max_amount = trans_df['amount'].max()\n",
        "print('The new maximum transaction amount:', max_amount)"
      ],
      "metadata": {
        "colab": {
          "base_uri": "https://localhost:8080/"
        },
        "id": "hZd-kuyP8jA_",
        "outputId": "f2ea15e9-9097-4f9e-cfa5-834aad40ad21"
      },
      "execution_count": 25,
      "outputs": [
        {
          "output_type": "stream",
          "name": "stdout",
          "text": [
            "The new maximum transaction amount: 550000.0\n"
          ]
        }
      ]
    },
    {
      "cell_type": "code",
      "source": [
        "#Visualizing the New distribution of transaction amounts\n",
        "# Customizing New the colors of the plot\n",
        "boxprops = dict(linestyle='-', linewidth=2, color='blue')\n",
        "whiskerprops = dict(linestyle='--', linewidth=1.5, color='gray')\n",
        "flierprops = dict(marker='o', markerfacecolor='green', markersize=8, alpha=0.5)\n",
        "meanprops = dict(marker='D', markeredgecolor='black', markerfacecolor='yellow', markersize=8)\n",
        "medianprops = dict(linestyle='-', linewidth=2.5, color='green')\n",
        "\n",
        "# Creating the new box plot\n",
        "plt.boxplot(trans_df['amount'], boxprops=boxprops, whiskerprops=whiskerprops, flierprops=flierprops,\n",
        "            meanprops=meanprops, medianprops=medianprops)\n",
        "\n",
        "# Adding labels and a title to the new plot\n",
        "plt.xlabel('Transaction Amount')\n",
        "plt.ylabel('Amount in USD')\n",
        "plt.title('New Distribution of Transaction Amounts')\n",
        "\n",
        "# Adding grid lines to the plot\n",
        "plt.grid(axis='y')\n",
        "\n",
        "# Displaying the plot\n",
        "plt.show()\n"
      ],
      "metadata": {
        "colab": {
          "base_uri": "https://localhost:8080/",
          "height": 472
        },
        "id": "0rSqJu2D8tFP",
        "outputId": "55cbf55c-ae03-490b-ac68-3ca8bbd99ca1"
      },
      "execution_count": 26,
      "outputs": [
        {
          "output_type": "display_data",
          "data": {
            "text/plain": [
              "<Figure size 640x480 with 1 Axes>"
            ],
            "image/png": "[encoded data removed]"
          },
          "metadata": {}
        }
      ]
    },
    {
      "cell_type": "code",
      "source": [
        "#confirm the data types of the columns are of the appropriate data types\n",
        "trans_df['settledAt'] = pd.to_datetime(trans_df['settledAt'])\n",
        "trans_df['trans_date'] = pd.to_datetime(trans_df['settledAt']).dt.date\n",
        "trans_df['ftd'] = trans_df['ftd'].astype(bool)\n",
        "trans_df['amount'] = trans_df['amount'].astype(int)\n"
      ],
      "metadata": {
        "id": "rJv-DIT0wpO2"
      },
      "execution_count": 27,
      "outputs": []
    },
    {
      "cell_type": "code",
      "source": [
        "#Calculating the CLV for each customer\n",
        "clv_df = trans_df.groupby('id').agg({'amount': 'sum'})\n",
        "clv_df"
      ],
      "metadata": {
        "colab": {
          "base_uri": "https://localhost:8080/",
          "height": 655
        },
        "id": "DanlE0Djxd99",
        "outputId": "2e89a1ff-d645-4a5f-f3ac-2e21c0b3f719"
      },
      "execution_count": 29,
      "outputs": [
        {
          "output_type": "execute_result",
          "data": {
            "text/plain": [
              "        amount\n",
              "id            \n",
              "5774       150\n",
              "5825       140\n",
              "5830       200\n",
              "5838      1684\n",
              "5839       916\n",
              "...        ...\n",
              "128786     160\n",
              "128797     100\n",
              "128850     339\n",
              "128853     100\n",
              "128867      40\n",
              "\n",
              "[6661 rows x 1 columns]"
            ],
            "text/html": [
              "\n",
              "  <div id=\"df-27bdb081-09ce-46b9-8c48-f61943356921\">\n",
              "    <div class=\"colab-df-container\">\n",
              "      <div>\n",
              "<style scoped>\n",
              "    .dataframe tbody tr th:only-of-type {\n",
              "        vertical-align: middle;\n",
              "    }\n",
              "\n",
              "    .dataframe tbody tr th {\n",
              "        vertical-align: top;\n",
              "    }\n",
              "\n",
              "    .dataframe thead th {\n",
              "        text-align: right;\n",
              "    }\n",
              "</style>\n",
              "<table border=\"1\" class=\"dataframe\">\n",
              "  <thead>\n",
              "    <tr style=\"text-align: right;\">\n",
              "      <th></th>\n",
              "      <th>amount</th>\n",
              "    </tr>\n",
              "    <tr>\n",
              "      <th>id</th>\n",
              "      <th></th>\n",
              "    </tr>\n",
              "  </thead>\n",
              "  <tbody>\n",
              "    <tr>\n",
              "      <th>5774</th>\n",
              "      <td>150</td>\n",
              "    </tr>\n",
              "    <tr>\n",
              "      <th>5825</th>\n",
              "      <td>140</td>\n",
              "    </tr>\n",
              "    <tr>\n",
              "      <th>5830</th>\n",
              "      <td>200</td>\n",
              "    </tr>\n",
              "    <tr>\n",
              "      <th>5838</th>\n",
              "      <td>1684</td>\n",
              "    </tr>\n",
              "    <tr>\n",
              "      <th>5839</th>\n",
              "      <td>916</td>\n",
              "    </tr>\n",
              "    <tr>\n",
              "      <th>...</th>\n",
              "      <td>...</td>\n",
              "    </tr>\n",
              "    <tr>\n",
              "      <th>128786</th>\n",
              "      <td>160</td>\n",
              "    </tr>\n",
              "    <tr>\n",
              "      <th>128797</th>\n",
              "      <td>100</td>\n",
              "    </tr>\n",
              "    <tr>\n",
              "      <th>128850</th>\n",
              "      <td>339</td>\n",
              "    </tr>\n",
              "    <tr>\n",
              "      <th>128853</th>\n",
              "      <td>100</td>\n",
              "    </tr>\n",
              "    <tr>\n",
              "      <th>128867</th>\n",
              "      <td>40</td>\n",
              "    </tr>\n",
              "  </tbody>\n",
              "</table>\n",
              "<p>6661 rows × 1 columns</p>\n",
              "</div>\n",
              "      <button class=\"colab-df-convert\" onclick=\"convertToInteractive('df-27bdb081-09ce-46b9-8c48-f61943356921')\"\n",
              "              title=\"Convert this dataframe to an interactive table.\"\n",
              "              style=\"display:none;\">\n",
              "        \n",
              "  <svg xmlns=\"http://www.w3.org/2000/svg\" height=\"24px\"viewBox=\"0 0 24 24\"\n",
              "       width=\"24px\">\n",
              "    <path d=\"M0 0h24v24H0V0z\" fill=\"none\"/>\n",
              "    <path d=\"M18.56 5.44l.94 2.06.94-2.06 2.06-.94-2.06-.94-.94-2.06-.94 2.06-2.06.94zm-11 1L8.5 8.5l.94-2.06 2.06-.94-2.06-.94L8.5 2.5l-.94 2.06-2.06.94zm10 10l.94 2.06.94-2.06 2.06-.94-2.06-.94-.94-2.06-.94 2.06-2.06.94z\"/><path d=\"M17.41 7.96l-1.37-1.37c-.4-.4-.92-.59-1.43-.59-.52 0-1.04.2-1.43.59L10.3 9.45l-7.72 7.72c-.78.78-.78 2.05 0 2.83L4 21.41c.39.39.9.59 1.41.59.51 0 1.02-.2 1.41-.59l7.78-7.78 2.81-2.81c.8-.78.8-2.07 0-2.86zM5.41 20L4 18.59l7.72-7.72 1.47 1.35L5.41 20z\"/>\n",
              "  </svg>\n",
              "      </button>\n",
              "      \n",
              "  <style>\n",
              "    .colab-df-container {\n",
              "      display:flex;\n",
              "      flex-wrap:wrap;\n",
              "      gap: 12px;\n",
              "    }\n",
              "\n",
              "    .colab-df-convert {\n",
              "      background-color: #E8F0FE;\n",
              "      border: none;\n",
              "      border-radius: 50%;\n",
              "      cursor: pointer;\n",
              "      display: none;\n",
              "      fill: #1967D2;\n",
              "      height: 32px;\n",
              "      padding: 0 0 0 0;\n",
              "      width: 32px;\n",
              "    }\n",
              "\n",
              "    .colab-df-convert:hover {\n",
              "      background-color: #E2EBFA;\n",
              "      box-shadow: 0px 1px 2px rgba(60, 64, 67, 0.3), 0px 1px 3px 1px rgba(60, 64, 67, 0.15);\n",
              "      fill: #174EA6;\n",
              "    }\n",
              "\n",
              "    [theme=dark] .colab-df-convert {\n",
              "      background-color: #3B4455;\n",
              "      fill: #D2E3FC;\n",
              "    }\n",
              "\n",
              "    [theme=dark] .colab-df-convert:hover {\n",
              "      background-color: #434B5C;\n",
              "      box-shadow: 0px 1px 3px 1px rgba(0, 0, 0, 0.15);\n",
              "      filter: drop-shadow(0px 1px 2px rgba(0, 0, 0, 0.3));\n",
              "      fill: #FFFFFF;\n",
              "    }\n",
              "  </style>\n",
              "\n",
              "      <script>\n",
              "        const buttonEl =\n",
              "          document.querySelector('#df-27bdb081-09ce-46b9-8c48-f61943356921 button.colab-df-convert');\n",
              "        buttonEl.style.display =\n",
              "          google.colab.kernel.accessAllowed ? 'block' : 'none';\n",
              "\n",
              "        async function convertToInteractive(key) {\n",
              "          const element = document.querySelector('#df-27bdb081-09ce-46b9-8c48-f61943356921');\n",
              "          const dataTable =\n",
              "            await google.colab.kernel.invokeFunction('convertToInteractive',\n",
              "                                                     [key], {});\n",
              "          if (!dataTable) return;\n",
              "\n",
              "          const docLinkHtml = 'Like what you see? Visit the ' +\n",
              "            '<a target=\"_blank\" href=https://colab.research.google.com/notebooks/data_table.ipynb>data table notebook</a>'\n",
              "            + ' to learn more about interactive tables.';\n",
              "          element.innerHTML = '';\n",
              "          dataTable['output_type'] = 'display_data';\n",
              "          await google.colab.output.renderOutput(dataTable, element);\n",
              "          const docLink = document.createElement('div');\n",
              "          docLink.innerHTML = docLinkHtml;\n",
              "          element.appendChild(docLink);\n",
              "        }\n",
              "      </script>\n",
              "    </div>\n",
              "  </div>\n",
              "  "
            ]
          },
          "metadata": {},
          "execution_count": 29
        }
      ]
    },
    {
      "cell_type": "code",
      "source": [
        "#Merge the data\n",
        "merged_df = pd.merge(trans_df, clv_df, on='id')\n",
        "merged_df.head()"
      ],
      "metadata": {
        "colab": {
          "base_uri": "https://localhost:8080/",
          "height": 206
        },
        "id": "Dg78Z0LpMzmx",
        "outputId": "077f83d3-889c-4b90-ea33-03a833b73453"
      },
      "execution_count": 33,
      "outputs": [
        {
          "output_type": "execute_result",
          "data": {
            "text/plain": [
              "     id                        settledAt    ftd  amount_x   status  \\\n",
              "0  5774 2019-12-09 10:05:27.783000+00:00   True        50  SUCCESS   \n",
              "1  5774 2019-12-15 20:09:26.286000+00:00  False        50    ERROR   \n",
              "2  5774 2019-12-16 06:49:49.786000+00:00  False        50  SUCCESS   \n",
              "3  5825 2020-03-23 08:48:32.463000+00:00   True        20  SUCCESS   \n",
              "4  5825 2020-03-23 08:38:44.926000+00:00  False        20   CANCEL   \n",
              "\n",
              "         type  trans_date  ftd_flag  cum_ftd_flag  amount_y  \n",
              "0     deposit  2019-12-09      True             1       150  \n",
              "1  withdrawal  2019-12-15     False             1       150  \n",
              "2  withdrawal  2019-12-16     False             1       150  \n",
              "3     deposit  2020-03-23      True             1       140  \n",
              "4     deposit  2020-03-23     False             1       140  "
            ],
            "text/html": [
              "\n",
              "  <div id=\"df-886a4be2-4fad-4339-9d0a-c96598438416\">\n",
              "    <div class=\"colab-df-container\">\n",
              "      <div>\n",
              "<style scoped>\n",
              "    .dataframe tbody tr th:only-of-type {\n",
              "        vertical-align: middle;\n",
              "    }\n",
              "\n",
              "    .dataframe tbody tr th {\n",
              "        vertical-align: top;\n",
              "    }\n",
              "\n",
              "    .dataframe thead th {\n",
              "        text-align: right;\n",
              "    }\n",
              "</style>\n",
              "<table border=\"1\" class=\"dataframe\">\n",
              "  <thead>\n",
              "    <tr style=\"text-align: right;\">\n",
              "      <th></th>\n",
              "      <th>id</th>\n",
              "      <th>settledAt</th>\n",
              "      <th>ftd</th>\n",
              "      <th>amount_x</th>\n",
              "      <th>status</th>\n",
              "      <th>type</th>\n",
              "      <th>trans_date</th>\n",
              "      <th>ftd_flag</th>\n",
              "      <th>cum_ftd_flag</th>\n",
              "      <th>amount_y</th>\n",
              "    </tr>\n",
              "  </thead>\n",
              "  <tbody>\n",
              "    <tr>\n",
              "      <th>0</th>\n",
              "      <td>5774</td>\n",
              "      <td>2019-12-09 10:05:27.783000+00:00</td>\n",
              "      <td>True</td>\n",
              "      <td>50</td>\n",
              "      <td>SUCCESS</td>\n",
              "      <td>deposit</td>\n",
              "      <td>2019-12-09</td>\n",
              "      <td>True</td>\n",
              "      <td>1</td>\n",
              "      <td>150</td>\n",
              "    </tr>\n",
              "    <tr>\n",
              "      <th>1</th>\n",
              "      <td>5774</td>\n",
              "      <td>2019-12-15 20:09:26.286000+00:00</td>\n",
              "      <td>False</td>\n",
              "      <td>50</td>\n",
              "      <td>ERROR</td>\n",
              "      <td>withdrawal</td>\n",
              "      <td>2019-12-15</td>\n",
              "      <td>False</td>\n",
              "      <td>1</td>\n",
              "      <td>150</td>\n",
              "    </tr>\n",
              "    <tr>\n",
              "      <th>2</th>\n",
              "      <td>5774</td>\n",
              "      <td>2019-12-16 06:49:49.786000+00:00</td>\n",
              "      <td>False</td>\n",
              "      <td>50</td>\n",
              "      <td>SUCCESS</td>\n",
              "      <td>withdrawal</td>\n",
              "      <td>2019-12-16</td>\n",
              "      <td>False</td>\n",
              "      <td>1</td>\n",
              "      <td>150</td>\n",
              "    </tr>\n",
              "    <tr>\n",
              "      <th>3</th>\n",
              "      <td>5825</td>\n",
              "      <td>2020-03-23 08:48:32.463000+00:00</td>\n",
              "      <td>True</td>\n",
              "      <td>20</td>\n",
              "      <td>SUCCESS</td>\n",
              "      <td>deposit</td>\n",
              "      <td>2020-03-23</td>\n",
              "      <td>True</td>\n",
              "      <td>1</td>\n",
              "      <td>140</td>\n",
              "    </tr>\n",
              "    <tr>\n",
              "      <th>4</th>\n",
              "      <td>5825</td>\n",
              "      <td>2020-03-23 08:38:44.926000+00:00</td>\n",
              "      <td>False</td>\n",
              "      <td>20</td>\n",
              "      <td>CANCEL</td>\n",
              "      <td>deposit</td>\n",
              "      <td>2020-03-23</td>\n",
              "      <td>False</td>\n",
              "      <td>1</td>\n",
              "      <td>140</td>\n",
              "    </tr>\n",
              "  </tbody>\n",
              "</table>\n",
              "</div>\n",
              "      <button class=\"colab-df-convert\" onclick=\"convertToInteractive('df-886a4be2-4fad-4339-9d0a-c96598438416')\"\n",
              "              title=\"Convert this dataframe to an interactive table.\"\n",
              "              style=\"display:none;\">\n",
              "        \n",
              "  <svg xmlns=\"http://www.w3.org/2000/svg\" height=\"24px\"viewBox=\"0 0 24 24\"\n",
              "       width=\"24px\">\n",
              "    <path d=\"M0 0h24v24H0V0z\" fill=\"none\"/>\n",
              "    <path d=\"M18.56 5.44l.94 2.06.94-2.06 2.06-.94-2.06-.94-.94-2.06-.94 2.06-2.06.94zm-11 1L8.5 8.5l.94-2.06 2.06-.94-2.06-.94L8.5 2.5l-.94 2.06-2.06.94zm10 10l.94 2.06.94-2.06 2.06-.94-2.06-.94-.94-2.06-.94 2.06-2.06.94z\"/><path d=\"M17.41 7.96l-1.37-1.37c-.4-.4-.92-.59-1.43-.59-.52 0-1.04.2-1.43.59L10.3 9.45l-7.72 7.72c-.78.78-.78 2.05 0 2.83L4 21.41c.39.39.9.59 1.41.59.51 0 1.02-.2 1.41-.59l7.78-7.78 2.81-2.81c.8-.78.8-2.07 0-2.86zM5.41 20L4 18.59l7.72-7.72 1.47 1.35L5.41 20z\"/>\n",
              "  </svg>\n",
              "      </button>\n",
              "      \n",
              "  <style>\n",
              "    .colab-df-container {\n",
              "      display:flex;\n",
              "      flex-wrap:wrap;\n",
              "      gap: 12px;\n",
              "    }\n",
              "\n",
              "    .colab-df-convert {\n",
              "      background-color: #E8F0FE;\n",
              "      border: none;\n",
              "      border-radius: 50%;\n",
              "      cursor: pointer;\n",
              "      display: none;\n",
              "      fill: #1967D2;\n",
              "      height: 32px;\n",
              "      padding: 0 0 0 0;\n",
              "      width: 32px;\n",
              "    }\n",
              "\n",
              "    .colab-df-convert:hover {\n",
              "      background-color: #E2EBFA;\n",
              "      box-shadow: 0px 1px 2px rgba(60, 64, 67, 0.3), 0px 1px 3px 1px rgba(60, 64, 67, 0.15);\n",
              "      fill: #174EA6;\n",
              "    }\n",
              "\n",
              "    [theme=dark] .colab-df-convert {\n",
              "      background-color: #3B4455;\n",
              "      fill: #D2E3FC;\n",
              "    }\n",
              "\n",
              "    [theme=dark] .colab-df-convert:hover {\n",
              "      background-color: #434B5C;\n",
              "      box-shadow: 0px 1px 3px 1px rgba(0, 0, 0, 0.15);\n",
              "      filter: drop-shadow(0px 1px 2px rgba(0, 0, 0, 0.3));\n",
              "      fill: #FFFFFF;\n",
              "    }\n",
              "  </style>\n",
              "\n",
              "      <script>\n",
              "        const buttonEl =\n",
              "          document.querySelector('#df-886a4be2-4fad-4339-9d0a-c96598438416 button.colab-df-convert');\n",
              "        buttonEl.style.display =\n",
              "          google.colab.kernel.accessAllowed ? 'block' : 'none';\n",
              "\n",
              "        async function convertToInteractive(key) {\n",
              "          const element = document.querySelector('#df-886a4be2-4fad-4339-9d0a-c96598438416');\n",
              "          const dataTable =\n",
              "            await google.colab.kernel.invokeFunction('convertToInteractive',\n",
              "                                                     [key], {});\n",
              "          if (!dataTable) return;\n",
              "\n",
              "          const docLinkHtml = 'Like what you see? Visit the ' +\n",
              "            '<a target=\"_blank\" href=https://colab.research.google.com/notebooks/data_table.ipynb>data table notebook</a>'\n",
              "            + ' to learn more about interactive tables.';\n",
              "          element.innerHTML = '';\n",
              "          dataTable['output_type'] = 'display_data';\n",
              "          await google.colab.output.renderOutput(dataTable, element);\n",
              "          const docLink = document.createElement('div');\n",
              "          docLink.innerHTML = docLinkHtml;\n",
              "          element.appendChild(docLink);\n",
              "        }\n",
              "      </script>\n",
              "    </div>\n",
              "  </div>\n",
              "  "
            ]
          },
          "metadata": {},
          "execution_count": 33
        }
      ]
    },
    {
      "cell_type": "code",
      "source": [
        "#Rename amount_y to CLV for each id\n",
        "merged_df.rename(columns={\"amount_y\": \"CLV\"}, inplace=True)\n",
        "merged_df.head()"
      ],
      "metadata": {
        "colab": {
          "base_uri": "https://localhost:8080/",
          "height": 206
        },
        "id": "lw6lQz_0VxXW",
        "outputId": "3d912181-05dc-46c0-879c-38fa97eb43f1"
      },
      "execution_count": 34,
      "outputs": [
        {
          "output_type": "execute_result",
          "data": {
            "text/plain": [
              "     id                        settledAt    ftd  amount_x   status  \\\n",
              "0  5774 2019-12-09 10:05:27.783000+00:00   True        50  SUCCESS   \n",
              "1  5774 2019-12-15 20:09:26.286000+00:00  False        50    ERROR   \n",
              "2  5774 2019-12-16 06:49:49.786000+00:00  False        50  SUCCESS   \n",
              "3  5825 2020-03-23 08:48:32.463000+00:00   True        20  SUCCESS   \n",
              "4  5825 2020-03-23 08:38:44.926000+00:00  False        20   CANCEL   \n",
              "\n",
              "         type  trans_date  ftd_flag  cum_ftd_flag  CLV  \n",
              "0     deposit  2019-12-09      True             1  150  \n",
              "1  withdrawal  2019-12-15     False             1  150  \n",
              "2  withdrawal  2019-12-16     False             1  150  \n",
              "3     deposit  2020-03-23      True             1  140  \n",
              "4     deposit  2020-03-23     False             1  140  "
            ],
            "text/html": [
              "\n",
              "  <div id=\"df-d4ba17da-f1c9-456b-b527-1c161192e8f3\">\n",
              "    <div class=\"colab-df-container\">\n",
              "      <div>\n",
              "<style scoped>\n",
              "    .dataframe tbody tr th:only-of-type {\n",
              "        vertical-align: middle;\n",
              "    }\n",
              "\n",
              "    .dataframe tbody tr th {\n",
              "        vertical-align: top;\n",
              "    }\n",
              "\n",
              "    .dataframe thead th {\n",
              "        text-align: right;\n",
              "    }\n",
              "</style>\n",
              "<table border=\"1\" class=\"dataframe\">\n",
              "  <thead>\n",
              "    <tr style=\"text-align: right;\">\n",
              "      <th></th>\n",
              "      <th>id</th>\n",
              "      <th>settledAt</th>\n",
              "      <th>ftd</th>\n",
              "      <th>amount_x</th>\n",
              "      <th>status</th>\n",
              "      <th>type</th>\n",
              "      <th>trans_date</th>\n",
              "      <th>ftd_flag</th>\n",
              "      <th>cum_ftd_flag</th>\n",
              "      <th>CLV</th>\n",
              "    </tr>\n",
              "  </thead>\n",
              "  <tbody>\n",
              "    <tr>\n",
              "      <th>0</th>\n",
              "      <td>5774</td>\n",
              "      <td>2019-12-09 10:05:27.783000+00:00</td>\n",
              "      <td>True</td>\n",
              "      <td>50</td>\n",
              "      <td>SUCCESS</td>\n",
              "      <td>deposit</td>\n",
              "      <td>2019-12-09</td>\n",
              "      <td>True</td>\n",
              "      <td>1</td>\n",
              "      <td>150</td>\n",
              "    </tr>\n",
              "    <tr>\n",
              "      <th>1</th>\n",
              "      <td>5774</td>\n",
              "      <td>2019-12-15 20:09:26.286000+00:00</td>\n",
              "      <td>False</td>\n",
              "      <td>50</td>\n",
              "      <td>ERROR</td>\n",
              "      <td>withdrawal</td>\n",
              "      <td>2019-12-15</td>\n",
              "      <td>False</td>\n",
              "      <td>1</td>\n",
              "      <td>150</td>\n",
              "    </tr>\n",
              "    <tr>\n",
              "      <th>2</th>\n",
              "      <td>5774</td>\n",
              "      <td>2019-12-16 06:49:49.786000+00:00</td>\n",
              "      <td>False</td>\n",
              "      <td>50</td>\n",
              "      <td>SUCCESS</td>\n",
              "      <td>withdrawal</td>\n",
              "      <td>2019-12-16</td>\n",
              "      <td>False</td>\n",
              "      <td>1</td>\n",
              "      <td>150</td>\n",
              "    </tr>\n",
              "    <tr>\n",
              "      <th>3</th>\n",
              "      <td>5825</td>\n",
              "      <td>2020-03-23 08:48:32.463000+00:00</td>\n",
              "      <td>True</td>\n",
              "      <td>20</td>\n",
              "      <td>SUCCESS</td>\n",
              "      <td>deposit</td>\n",
              "      <td>2020-03-23</td>\n",
              "      <td>True</td>\n",
              "      <td>1</td>\n",
              "      <td>140</td>\n",
              "    </tr>\n",
              "    <tr>\n",
              "      <th>4</th>\n",
              "      <td>5825</td>\n",
              "      <td>2020-03-23 08:38:44.926000+00:00</td>\n",
              "      <td>False</td>\n",
              "      <td>20</td>\n",
              "      <td>CANCEL</td>\n",
              "      <td>deposit</td>\n",
              "      <td>2020-03-23</td>\n",
              "      <td>False</td>\n",
              "      <td>1</td>\n",
              "      <td>140</td>\n",
              "    </tr>\n",
              "  </tbody>\n",
              "</table>\n",
              "</div>\n",
              "      <button class=\"colab-df-convert\" onclick=\"convertToInteractive('df-d4ba17da-f1c9-456b-b527-1c161192e8f3')\"\n",
              "              title=\"Convert this dataframe to an interactive table.\"\n",
              "              style=\"display:none;\">\n",
              "        \n",
              "  <svg xmlns=\"http://www.w3.org/2000/svg\" height=\"24px\"viewBox=\"0 0 24 24\"\n",
              "       width=\"24px\">\n",
              "    <path d=\"M0 0h24v24H0V0z\" fill=\"none\"/>\n",
              "    <path d=\"M18.56 5.44l.94 2.06.94-2.06 2.06-.94-2.06-.94-.94-2.06-.94 2.06-2.06.94zm-11 1L8.5 8.5l.94-2.06 2.06-.94-2.06-.94L8.5 2.5l-.94 2.06-2.06.94zm10 10l.94 2.06.94-2.06 2.06-.94-2.06-.94-.94-2.06-.94 2.06-2.06.94z\"/><path d=\"M17.41 7.96l-1.37-1.37c-.4-.4-.92-.59-1.43-.59-.52 0-1.04.2-1.43.59L10.3 9.45l-7.72 7.72c-.78.78-.78 2.05 0 2.83L4 21.41c.39.39.9.59 1.41.59.51 0 1.02-.2 1.41-.59l7.78-7.78 2.81-2.81c.8-.78.8-2.07 0-2.86zM5.41 20L4 18.59l7.72-7.72 1.47 1.35L5.41 20z\"/>\n",
              "  </svg>\n",
              "      </button>\n",
              "      \n",
              "  <style>\n",
              "    .colab-df-container {\n",
              "      display:flex;\n",
              "      flex-wrap:wrap;\n",
              "      gap: 12px;\n",
              "    }\n",
              "\n",
              "    .colab-df-convert {\n",
              "      background-color: #E8F0FE;\n",
              "      border: none;\n",
              "      border-radius: 50%;\n",
              "      cursor: pointer;\n",
              "      display: none;\n",
              "      fill: #1967D2;\n",
              "      height: 32px;\n",
              "      padding: 0 0 0 0;\n",
              "      width: 32px;\n",
              "    }\n",
              "\n",
              "    .colab-df-convert:hover {\n",
              "      background-color: #E2EBFA;\n",
              "      box-shadow: 0px 1px 2px rgba(60, 64, 67, 0.3), 0px 1px 3px 1px rgba(60, 64, 67, 0.15);\n",
              "      fill: #174EA6;\n",
              "    }\n",
              "\n",
              "    [theme=dark] .colab-df-convert {\n",
              "      background-color: #3B4455;\n",
              "      fill: #D2E3FC;\n",
              "    }\n",
              "\n",
              "    [theme=dark] .colab-df-convert:hover {\n",
              "      background-color: #434B5C;\n",
              "      box-shadow: 0px 1px 3px 1px rgba(0, 0, 0, 0.15);\n",
              "      filter: drop-shadow(0px 1px 2px rgba(0, 0, 0, 0.3));\n",
              "      fill: #FFFFFF;\n",
              "    }\n",
              "  </style>\n",
              "\n",
              "      <script>\n",
              "        const buttonEl =\n",
              "          document.querySelector('#df-d4ba17da-f1c9-456b-b527-1c161192e8f3 button.colab-df-convert');\n",
              "        buttonEl.style.display =\n",
              "          google.colab.kernel.accessAllowed ? 'block' : 'none';\n",
              "\n",
              "        async function convertToInteractive(key) {\n",
              "          const element = document.querySelector('#df-d4ba17da-f1c9-456b-b527-1c161192e8f3');\n",
              "          const dataTable =\n",
              "            await google.colab.kernel.invokeFunction('convertToInteractive',\n",
              "                                                     [key], {});\n",
              "          if (!dataTable) return;\n",
              "\n",
              "          const docLinkHtml = 'Like what you see? Visit the ' +\n",
              "            '<a target=\"_blank\" href=https://colab.research.google.com/notebooks/data_table.ipynb>data table notebook</a>'\n",
              "            + ' to learn more about interactive tables.';\n",
              "          element.innerHTML = '';\n",
              "          dataTable['output_type'] = 'display_data';\n",
              "          await google.colab.output.renderOutput(dataTable, element);\n",
              "          const docLink = document.createElement('div');\n",
              "          docLink.innerHTML = docLinkHtml;\n",
              "          element.appendChild(docLink);\n",
              "        }\n",
              "      </script>\n",
              "    </div>\n",
              "  </div>\n",
              "  "
            ]
          },
          "metadata": {},
          "execution_count": 34
        }
      ]
    },
    {
      "cell_type": "code",
      "source": [
        "from scipy.stats import pearsonr\n",
        "\n",
        "# Calculate the correlation coefficient and p-value between amount_x and CLV\n",
        "corr, p_value = pearsonr(merged_df['amount_x'], merged_df['CLV'])\n",
        "\n",
        "# Print the correlation coefficient and p-value\n",
        "print(\"Correlation coefficient: \", corr)\n",
        "print(\"p-value: \", p_value)\n"
      ],
      "metadata": {
        "colab": {
          "base_uri": "https://localhost:8080/"
        },
        "id": "MTI_PiDGWp-R",
        "outputId": "f661f5e7-fde5-4b76-f667-8f74478afd43"
      },
      "execution_count": 47,
      "outputs": [
        {
          "output_type": "stream",
          "name": "stdout",
          "text": [
            "Correlation coefficient:  0.31336063392295666\n",
            "p-value:  0.0\n"
          ]
        }
      ]
    },
    {
      "cell_type": "code",
      "source": [
        "#Visualizing the results\n",
        "# Plot a scatter plot of amount_x against CLV\n",
        "plt.scatter(merged_df['amount_x'], merged_df['CLV'])\n",
        "\n",
        "# Set the plot title and labels for the x and y axis\n",
        "plt.title('Amount_x vs CLV')\n",
        "plt.xlabel('Amount_x')\n",
        "plt.ylabel('CLV')\n",
        "\n",
        "# Show the plot\n",
        "plt.show()\n"
      ],
      "metadata": {
        "colab": {
          "base_uri": "https://localhost:8080/",
          "height": 471
        },
        "id": "SbFJ5M2wacp4",
        "outputId": "5f640141-b3c8-4eca-a71e-7b86487c6ea2"
      },
      "execution_count": 45,
      "outputs": [
        {
          "output_type": "display_data",
          "data": {
            "text/plain": [
              "<Figure size 640x480 with 1 Axes>"
            ],
            "image/png": "[encoded data removed]"
          },
          "metadata": {}
        }
      ]
    },
    {
      "cell_type": "code",
      "source": [
        "#checking relation between status and type variable\n",
        "from scipy.stats import chi2_contingency\n",
        "# Create a contingency table of status and type\n",
        "cont_table = pd.crosstab(merged_df['status'], merged_df['type'])\n",
        "print(cont_table)\n",
        "\n",
        "# Calculate the chi-square statistic and p-value\n",
        "chi2, p_value, dof, expected = chi2_contingency(cont_table)\n",
        "\n",
        "# Print the chi-square statistic and p-value\n",
        "print('Chi-square statistic:', chi2)\n",
        "print('P-value:', p_value)\n"
      ],
      "metadata": {
        "colab": {
          "base_uri": "https://localhost:8080/"
        },
        "id": "ahAqXWJaY8gg",
        "outputId": "b5b90303-84c2-491f-d94f-f12a6c38c4fc"
      },
      "execution_count": 53,
      "outputs": [
        {
          "output_type": "stream",
          "name": "stdout",
          "text": [
            "type     deposit  transfer  withdrawal\n",
            "status                                \n",
            "CANCEL     17887         0         350\n",
            "ERROR        104       415        5955\n",
            "FAIL       17786         0        6971\n",
            "INITIAL        6         0           1\n",
            "SUCCESS    52162      5883       67065\n",
            "Chi-square statistic: 31504.279565713685\n",
            "P-value: 0.0\n"
          ]
        }
      ]
    },
    {
      "cell_type": "code",
      "source": [
        "#Visualizing the results\n",
        "# Create a stacked bar chart\n",
        "cont_table.plot(kind='bar', stacked=True)\n",
        "\n",
        "# Add labels and title\n",
        "plt.xlabel('Status')\n",
        "plt.ylabel('Count')\n",
        "plt.title('Type of transaction by Status')\n",
        "\n",
        "# Show the plot\n",
        "plt.show()\n"
      ],
      "metadata": {
        "colab": {
          "base_uri": "https://localhost:8080/",
          "height": 522
        },
        "id": "zuoXY2snhiNe",
        "outputId": "2887d9eb-3f56-469b-e645-c6b772f55c64"
      },
      "execution_count": 54,
      "outputs": [
        {
          "output_type": "display_data",
          "data": {
            "text/plain": [
              "<Figure size 640x480 with 1 Axes>"
            ],
            "image/png": "[encoded data removed]"
          },
          "metadata": {}
        }
      ]
    },
    {
      "cell_type": "markdown",
      "source": [
        "Model"
      ],
      "metadata": {
        "id": "y72g_yfGp9Cs"
      }
    },
    {
      "cell_type": "code",
      "source": [],
      "metadata": {
        "id": "goo--WouhkLI"
      },
      "execution_count": null,
      "outputs": []
    }
  ]
}